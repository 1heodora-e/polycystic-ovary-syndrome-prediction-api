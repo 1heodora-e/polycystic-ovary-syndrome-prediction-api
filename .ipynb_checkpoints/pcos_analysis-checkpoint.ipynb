{
 "cells": [
  {
   "cell_type": "code",
   "execution_count": 3,
   "id": "a0a57f43",
   "metadata": {},
   "outputs": [
    {
     "ename": "ModuleNotFoundError",
     "evalue": "No module named 'pandas'",
     "output_type": "error",
     "traceback": [
      "\u001b[31m---------------------------------------------------------------------------\u001b[39m",
      "\u001b[31mModuleNotFoundError\u001b[39m                       Traceback (most recent call last)",
      "\u001b[36mCell\u001b[39m\u001b[36m \u001b[39m\u001b[32mIn[3]\u001b[39m\u001b[32m, line 1\u001b[39m\n\u001b[32m----> \u001b[39m\u001b[32m1\u001b[39m \u001b[38;5;28;01mimport\u001b[39;00m\u001b[38;5;250m \u001b[39m\u001b[34;01mpandas\u001b[39;00m\u001b[38;5;250m \u001b[39m\u001b[38;5;28;01mas\u001b[39;00m\u001b[38;5;250m \u001b[39m\u001b[34;01mpd\u001b[39;00m\n\u001b[32m      2\u001b[39m \u001b[38;5;28;01mimport\u001b[39;00m\u001b[38;5;250m \u001b[39m\u001b[34;01mnumpy\u001b[39;00m\u001b[38;5;250m \u001b[39m\u001b[38;5;28;01mas\u001b[39;00m\u001b[38;5;250m \u001b[39m\u001b[34;01mnp\u001b[39;00m\n\u001b[32m      3\u001b[39m \u001b[38;5;28;01mimport\u001b[39;00m\u001b[38;5;250m \u001b[39m\u001b[34;01mmatplotlib\u001b[39;00m\u001b[34;01m.\u001b[39;00m\u001b[34;01mpyplot\u001b[39;00m\u001b[38;5;250m \u001b[39m\u001b[38;5;28;01mas\u001b[39;00m\u001b[38;5;250m \u001b[39m\u001b[34;01mplt\u001b[39;00m\n",
      "\u001b[31mModuleNotFoundError\u001b[39m: No module named 'pandas'"
     ]
    }
   ],
   "source": [
    "import pandas as pd\n",
    "import numpy as np\n",
    "import matplotlib.pyplot as plt\n",
    "import seaborn as sns\n",
    "from sklearn.model_selection import train_test_split\n",
    "from sklearn.preprocessing import StandardScaler, OneHotEncoder\n",
    "from sklearn.linear_model import LinearRegression\n",
    "from sklearn.tree import DecisionTreeRegressor\n",
    "from sklearn.ensemble import RandomForestRegressor\n",
    "from sklearn.metrics import mean_squared_error, r2_score\n",
    "from sklearn.compose import ColumnTransformer\n",
    "from sklearn.pipeline import Pipeline\n",
    "import joblib"
   ]
  },
  {
   "cell_type": "code",
   "execution_count": null,
   "id": "3c20ed43",
   "metadata": {},
   "outputs": [],
   "source": [
    "# Display settings for pandas and matplotlib\n",
    "pd.set_option('display.max_columns', None)\n",
    "pd.set_option('display.width', 1000)\n",
    "plt.style.use('ggplot')"
   ]
  },
  {
   "cell_type": "code",
   "execution_count": null,
   "id": "f50339e8",
   "metadata": {},
   "outputs": [],
   "source": [
    "print(\"Libraries imported and environment configured.\")"
   ]
  },
  {
   "cell_type": "code",
   "execution_count": null,
   "id": "b2aae839",
   "metadata": {},
   "outputs": [],
   "source": [
    "# Load the dataset from the correct sheet\n",
    "pcos_dataset_filename = 'PCOS_data_without_infertility.xlsx'\n",
    "sheet_index = 1  # Sheet 2 (Python uses 0-based indexing)"
   ]
  },
  {
   "cell_type": "code",
   "execution_count": null,
   "id": "7d425d58",
   "metadata": {},
   "outputs": [],
   "source": [
    "try:\n",
    "    df = pd.read_excel(pcos_dataset_filename, sheet_name=sheet_index)\n",
    "    print(f\"Dataset '{pcos_dataset_filename}' (Sheet {sheet_index + 1}) loaded successfully.\")\n",
    "except FileNotFoundError:\n",
    "    print(f\"Error: '{pcos_dataset_filename}' not found. Please ensure the Excel file is in the same directory.\")\n",
    "    exit()  # Stop execution if file not found\n",
    "except ValueError as e:\n",
    "    print(f\"Error loading sheet {sheet_index + 1} from '{pcos_dataset_filename}': {e}\")\n",
    "    exit()  # Stop execution if sheet not found"
   ]
  },
  {
   "cell_type": "code",
   "execution_count": null,
   "id": "b6374dc3",
   "metadata": {},
   "outputs": [],
   "source": [
    "# Inspect the data\n",
    "print(\"\\n--- First 5 rows of the dataset ---\")\n",
    "print(df.head())"
   ]
  },
  {
   "cell_type": "code",
   "execution_count": null,
   "id": "d3b96430",
   "metadata": {},
   "outputs": [],
   "source": [
    "print(\"\\n--- Dataset Information (Columns, Non-Null Counts, Data Types) ---\")\n",
    "df.info()"
   ]
  },
  {
   "cell_type": "code",
   "execution_count": null,
   "id": "3cfd2723",
   "metadata": {},
   "outputs": [],
   "source": [
    "print(\"\\n--- Basic Statistical Summary of Numerical Columns ---\")\n",
    "print(df.describe())"
   ]
  },
  {
   "cell_type": "code",
   "execution_count": null,
   "id": "e682977b",
   "metadata": {},
   "outputs": [],
   "source": [
    "# Check the distribution of the target variable\n",
    "# IMPORTANT: Adjust 'PCOS' if your target column has a different exact name (case-sensitive)\n",
    "target_column_name = 'PCOS'\n",
    "if target_column_name in df.columns:\n",
    "    print(df[target_column_name].value_counts())\n",
    "    print(f\"Percentage of PCOS cases (1) in the dataset: {df[target_column_name].value_counts(normalize=True).get(1, 0) * 100:.2f}%\")\n",
    "else:\n",
    "    print(f\"Target column '{target_column_name}' not found. Available columns: {df.columns.tolist()}\")\n",
    "    exit()  # Stop execution if target not found"
   ]
  },
  {
   "cell_type": "code",
   "execution_count": null,
   "id": "3438ca03",
   "metadata": {},
   "outputs": [],
   "source": [
    "# Data inspection for cleaning and preprocessing\n",
    "print(\"\\n--- Columns and Data Types ---\")\n",
    "print(df.dtypes)"
   ]
  },
  {
   "cell_type": "code",
   "execution_count": null,
   "id": "5104be65",
   "metadata": {},
   "outputs": [],
   "source": [
    "print(\"\\n--- Number of Missing Values per Column ---\")\n",
    "print(df.isnull().sum())"
   ]
  },
  {
   "cell_type": "code",
   "execution_count": null,
   "id": "c8bffe90",
   "metadata": {},
   "outputs": [],
   "source": [
    "print(\"\\n--- Columns with Object (Non-Numeric) Data Types ---\")\n",
    "object_cols = df.select_dtypes(include=['object']).columns\n",
    "print(object_cols)"
   ]
  },
  {
   "cell_type": "code",
   "execution_count": null,
   "id": "9f737927",
   "metadata": {},
   "outputs": [],
   "source": [
    "print(\"\\n--- Unique Values in Categorical Columns ---\")\n",
    "for col in object_cols:\n",
    "    print(f\"\\nColumn: {col}\")\n",
    "    print(df[col].unique())"
   ]
  }
 ],
 "metadata": {
  "jupytext": {
   "cell_metadata_filter": "-all",
   "main_language": "python",
   "notebook_metadata_filter": "-all"
  },
  "kernelspec": {
   "display_name": ".venv",
   "language": "python",
   "name": "python3"
  },
  "language_info": {
   "codemirror_mode": {
    "name": "ipython",
    "version": 3
   },
   "file_extension": ".py",
   "mimetype": "text/x-python",
   "name": "python",
   "nbconvert_exporter": "python",
   "pygments_lexer": "ipython3",
   "version": "3.13.5"
  }
 },
 "nbformat": 4,
 "nbformat_minor": 5
}
